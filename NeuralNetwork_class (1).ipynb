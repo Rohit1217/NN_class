{
  "nbformat": 4,
  "nbformat_minor": 0,
  "metadata": {
    "colab": {
      "provenance": []
    },
    "kernelspec": {
      "name": "python3",
      "display_name": "Python 3"
    },
    "language_info": {
      "name": "python"
    }
  },
  "cells": [
    {
      "cell_type": "code",
      "source": [
        "import numpy as np\n",
        "import math"
      ],
      "metadata": {
        "id": "hheJKYbu_KNR"
      },
      "execution_count": null,
      "outputs": []
    },
    {
      "cell_type": "code",
      "source": [
        "class Neuron():\n",
        "\n",
        "  def __init__(self,activation):\n",
        "    self.activation=activation\n",
        "    self.original_input=0\n",
        "    self.transformed_input=0\n",
        "    self.derivative=0\n",
        "\n",
        "  def forward(self,x):\n",
        "    self.original_input=x\n",
        "    self.transformed_input=self.activation(x)\n",
        "    self.derivative=self.activation.derivative(x)\n",
        "    return self.transformed_input\n",
        "\n",
        "  def backprop(self):\n",
        "    result = self.derivative\n",
        "    self.transformed_input\n",
        "    self.derivative\n",
        "    return result\n"
      ],
      "metadata": {
        "id": "xvBtL9nsD35N"
      },
      "execution_count": null,
      "outputs": []
    },
    {
      "cell_type": "code",
      "source": [
        "class Layer():\n",
        "\n",
        "  def __init__(self,insize,outsize,activation):\n",
        "    self.w=np.random.randn(insize, outsize)\n",
        "    self.b=np.random.randn(outsize)\n",
        "    self.neuron_list=[Neuron(activation) for i in range(insize)]\n",
        "\n",
        "  def forward(self,x):\n",
        "    x=np.array([neuron.forward(x_i) for neuron, x_i in zip(self.neuron_list, x)])\n",
        "    if self.w.shape[0] > 0:\n",
        "      x=self.w.T @ x\n",
        "    return x\n",
        "\n",
        "  def backward(self,x):\n",
        "    lr=0.1\n",
        "    input=np.array([neuron.transformed_input for neuron in self.neuron_list])\n",
        "    input=input.reshape(-1,1)\n",
        "    y=(x.reshape(-1,1)).T\n",
        "    grad_w=np.matmul(input,y)\n",
        "    grad_b=x\n",
        "    print('as',self.w,grad_w,input,y,'sa')\n",
        "    self.w=self.w-lr*grad_w\n",
        "    self.b=self.b-lr*grad_b\n",
        "    grad_h=self.w @ x\n",
        "    neuron_derivatives=np.array([Neuron.derivative for Neuron in self.neuron_list])\n",
        "    local_derivative=neuron_derivatives*grad_h\n",
        "    #print(grad_w,grad_b,grad_h,x,neuron_derivatives)\n",
        "    return local_derivative\n",
        "\n",
        "\n",
        "  def print_params(self):\n",
        "    print(\"Weights (w):\")\n",
        "    print(self.w)\n",
        "    print(\"Biases (b):\")\n",
        "    print(self.b)\n",
        "    for neuron in self.neuron_list:\n",
        "      print(neuron.orignal_input,neuron.transformed_input,neuron.derivative)\n",
        "\n",
        "layer=Layer(3,5,Sigmoid())\n"
      ],
      "metadata": {
        "id": "9-9tvOvJKlX_"
      },
      "execution_count": null,
      "outputs": []
    },
    {
      "cell_type": "code",
      "source": [
        "class NeuralNetwork():\n",
        "  def __init__(self,layer_size,Activation):\n",
        "    #self.layer_tuple=[]\n",
        "    self.layer_list=[]\n",
        "    self.current_output=0\n",
        "    loss_grad=0\n",
        "\n",
        "    for i in range(len(layer_size)-1):\n",
        "      j=i+1\n",
        "      while j<i+2:\n",
        "        if i==0:\n",
        "          self.layer_list.append(Layer(layer_size[i],layer_size[j],Linear()))\n",
        "        elif j==(len(layer_size)):\n",
        "          self.layer_list.append(Layer(layer_size[i],layer_size[j],Activation))\n",
        "          self.layer_list.append(Layer(layer_size[j],1,Sigmoid))\n",
        "        else:\n",
        "          self.layer_list.append(Layer(layer_size[i],layer_size[j],Activation))\n",
        "        j+=1\n",
        "\n",
        "  def Backward(self):\n",
        "    layer_list_rev=reversed(self.layer_list)\n",
        "    x=self.loss_grad\n",
        "    for layer in layer_list_rev:\n",
        "        x=layer.backward(x)\n",
        "    return\n",
        "\n",
        "  def Loss(self,F,x,y):\n",
        "    loss=F(x,y)\n",
        "    self.loss_grad=F.derivative(x,y)\n",
        "    return loss\n",
        "\n",
        "  def Forward(self,x):\n",
        "    for layer in self.layer_list:\n",
        "      x=layer.forward(x)\n",
        "    self.current_output=x\n",
        "    return self.current_output\n",
        "nn=NeuralNetwork([3,2,2],Sigmoid())"
      ],
      "metadata": {
        "id": "GC_gFrHNg287"
      },
      "execution_count": null,
      "outputs": []
    },
    {
      "cell_type": "code",
      "source": [
        "class MSE():\n",
        "  def __call__(self,x,y):\n",
        "    if type(x)==int:\n",
        "      return 0.5*(x-y)**2\n",
        "    x,y=np.array(x),np.array(y)\n",
        "    arr=0.5*(x-y)\n",
        "    arr=arr*arr\n",
        "    return np.sum(arr)\n",
        "\n",
        "  def derivative(self,x,y):\n",
        "    x,y=np.array(x),np.array(y)\n",
        "    return (x-y)\n",
        "\n",
        "class CrossEntropy():\n",
        "  def __call__(self,x,y):\n",
        "    x=-np.log(x)\n",
        "    x=x*y\n",
        "    return np.sum(x)\n",
        "\n",
        "  def derivative(self,x,y):\n",
        "    index=np.argmax(y)\n",
        "    arr=np.zeros(len(y))\n",
        "    arr[index]=-1/math.log(x[index])\n",
        "    return arr\n"
      ],
      "metadata": {
        "id": "JeXUbGVcAnYy"
      },
      "execution_count": null,
      "outputs": []
    },
    {
      "cell_type": "code",
      "source": [
        "cross=MSE()\n",
        "print(cross([0.025,0.925,0.025,0.025],[0,1,0,0]))\n",
        "cross.derivative([0.025,0.925,0.025,0.025],[0,1,0,0])"
      ],
      "metadata": {
        "colab": {
          "base_uri": "https://localhost:8080/"
        },
        "id": "htlsiZmWEtCB",
        "outputId": "6c42b920-9878-461e-bdda-5460d47dcdd0"
      },
      "execution_count": null,
      "outputs": [
        {
          "output_type": "stream",
          "name": "stdout",
          "text": [
            "0.0018749999999999986\n"
          ]
        },
        {
          "output_type": "execute_result",
          "data": {
            "text/plain": [
              "array([ 0.025, -0.075,  0.025,  0.025])"
            ]
          },
          "metadata": {},
          "execution_count": 134
        }
      ]
    },
    {
      "cell_type": "code",
      "source": [
        "class Sigmoid():\n",
        "  def __init__(self):\n",
        "    pass\n",
        "\n",
        "  def __call__(self,x):\n",
        "    return 1/(1+np.exp(-x))\n",
        "\n",
        "  #np.vectorize(compute)\n",
        "\n",
        "  def derivative(self,x):\n",
        "    x=self(x)\n",
        "    return x*(1-x)\n",
        "\n",
        "class Relu():\n",
        "  def __call__(self,x):\n",
        "    x=np.array([i if i > 0 else 0 for i in x])\n",
        "    return x\n",
        "\n",
        "  def derivative(self,x):\n",
        "    x=self(x)\n",
        "    x=np.array([i if i > 0 else 0 for i in x])\n",
        "    return x\n",
        "\n",
        "class Softmax():\n",
        "  def __call__(self,x):\n",
        "    return x\n",
        "\n",
        "class Linear():\n",
        "  def __call__(self,x):\n",
        "    return x\n",
        "\n",
        "  def derivative(self,x):\n",
        "    x=self(x)\n",
        "    return x\n",
        "\n",
        "\n",
        "x=np.array([1,2,3,-1])\n",
        "sigmoid=Sigmoid()\n",
        "print(sigmoid(x))\n",
        "relu=Relu()\n",
        "relu(x)\n"
      ],
      "metadata": {
        "colab": {
          "base_uri": "https://localhost:8080/"
        },
        "id": "L_NM825p8A2i",
        "outputId": "30a3ccea-9de1-4d48-cead-3b0e9adddc39"
      },
      "execution_count": null,
      "outputs": [
        {
          "output_type": "stream",
          "name": "stdout",
          "text": [
            "[0.73105858 0.88079708 0.95257413 0.26894142]\n"
          ]
        },
        {
          "output_type": "execute_result",
          "data": {
            "text/plain": [
              "array([1, 2, 3, 0])"
            ]
          },
          "metadata": {},
          "execution_count": 109
        }
      ]
    },
    {
      "cell_type": "code",
      "source": [
        "neuron=Neuron(Sigmoid())\n",
        "neuron.forward(2)\n"
      ],
      "metadata": {
        "colab": {
          "base_uri": "https://localhost:8080/"
        },
        "id": "hDdiB_e1JKKf",
        "outputId": "e2c04552-9b2f-454f-d687-b1423256ef40"
      },
      "execution_count": null,
      "outputs": [
        {
          "output_type": "stream",
          "name": "stdout",
          "text": [
            "0.10499358540350662\n",
            "2 <__main__.Sigmoid object at 0x79482437e170> 0.8807970779778823 0.10499358540350662\n"
          ]
        }
      ]
    },
    {
      "cell_type": "code",
      "source": [
        "epoch=100\n",
        "x=[1,2,3]\n",
        "y=10\n",
        "for i in range(epoch):\n",
        "  output=nn.Forward(x)\n",
        "  nn.Loss(MSE(),output,y)\n",
        "  nn.Backward()\n",
        "\n"
      ],
      "metadata": {
        "id": "uJya2HGHAfuX"
      },
      "execution_count": null,
      "outputs": []
    },
    {
      "cell_type": "code",
      "source": [
        "x=np.array([1,2,3])\n",
        "print(nn.Forward(x))"
      ],
      "metadata": {
        "colab": {
          "base_uri": "https://localhost:8080/"
        },
        "id": "qz_cSVkTTPvh",
        "outputId": "b4719fcc-88c1-4201-e7be-df3a1a40ab71"
      },
      "execution_count": null,
      "outputs": [
        {
          "output_type": "stream",
          "name": "stdout",
          "text": [
            "[9.99969231 9.99971663]\n"
          ]
        }
      ]
    },
    {
      "cell_type": "code",
      "source": [
        "layer.w,layer.b"
      ],
      "metadata": {
        "colab": {
          "base_uri": "https://localhost:8080/"
        },
        "id": "XfywwzTjaVLI",
        "outputId": "b50a5c96-acf4-4003-9581-7243cf1c3144"
      },
      "execution_count": null,
      "outputs": [
        {
          "output_type": "execute_result",
          "data": {
            "text/plain": [
              "(array([[ 0.20810048, -0.28010785,  1.26811873, -0.78606315, -0.05226012],\n",
              "        [ 0.15446202, -0.48820905, -0.32383423,  1.33423334, -0.19400724],\n",
              "        [-0.43084558,  1.63662684,  0.48777158,  0.3505271 ,  0.31297032]]),\n",
              " array([-0.7418632 ,  0.00719553, -0.95316857,  0.55116582, -0.64896796]))"
            ]
          },
          "metadata": {},
          "execution_count": 104
        }
      ]
    },
    {
      "cell_type": "code",
      "source": [
        "x,y=np.array([1,2,3]),np.array([1,2,3,4,5])\n",
        "layer.forward(x)\n",
        "layer.backward(y)"
      ],
      "metadata": {
        "colab": {
          "base_uri": "https://localhost:8080/"
        },
        "id": "lv3-gvcbPVcg",
        "outputId": "2eb56d75-5559-4581-b922-38e382f09077"
      },
      "execution_count": null,
      "outputs": [
        {
          "output_type": "stream",
          "name": "stdout",
          "text": [
            "[[0.73105858 1.46211716 2.19317574 2.92423431 3.65529289]\n",
            " [0.88079708 1.76159416 2.64239123 3.52318831 4.40398539]\n",
            " [0.95257413 1.90514825 2.85772238 3.81029651 4.76287063]] [1 2 3 4 5] [-3.97413442 -2.27094553  2.03352511] [1 2 3 4 5] [0.19661193 0.10499359 0.04517666]\n"
          ]
        },
        {
          "output_type": "execute_result",
          "data": {
            "text/plain": [
              "array([-0.78136225, -0.23843471,  0.09186787])"
            ]
          },
          "metadata": {},
          "execution_count": 105
        }
      ]
    },
    {
      "cell_type": "code",
      "source": [],
      "metadata": {
        "id": "cZXmKpT6TN1Q"
      },
      "execution_count": null,
      "outputs": []
    }
  ]
}